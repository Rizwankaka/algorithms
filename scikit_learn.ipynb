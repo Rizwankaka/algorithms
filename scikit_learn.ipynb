{
  "cells": [
    {
      "cell_type": "markdown",
      "metadata": {
        "id": "view-in-github",
        "colab_type": "text"
      },
      "source": [
        "<a href=\"https://colab.research.google.com/github/Rizwankaka/algorithms/blob/master/scikit_learn.ipynb\" target=\"_parent\"><img src=\"https://colab.research.google.com/assets/colab-badge.svg\" alt=\"Open In Colab\"/></a>"
      ]
    },
    {
      "cell_type": "code",
      "execution_count": 2,
      "metadata": {
        "id": "hQaeW2GtmPvK"
      },
      "outputs": [],
      "source": [
        "import matplotlib.pyplot as plt \n",
        "from sklearn.linear_model import LinearRegression\n",
        "from sklearn.metrics import mean_squared_error\n",
        "from sklearn.datasets import load_boston\n",
        "from sklearn.preprocessing import StandardScaler\n",
        "from sklearn.pipeline import Pipeline\n",
        "import seaborn as sns "
      ]
    },
    {
      "cell_type": "code",
      "execution_count": 3,
      "metadata": {
        "colab": {
          "base_uri": "https://localhost:8080/"
        },
        "id": "rIUoMkTOmPvZ",
        "outputId": "015d4d6c-1661-4fa9-8a62-07ff40dc42a7"
      },
      "outputs": [
        {
          "output_type": "stream",
          "name": "stderr",
          "text": [
            "/usr/local/lib/python3.8/dist-packages/sklearn/utils/deprecation.py:87: FutureWarning: Function load_boston is deprecated; `load_boston` is deprecated in 1.0 and will be removed in 1.2.\n",
            "\n",
            "    The Boston housing prices dataset has an ethical problem. You can refer to\n",
            "    the documentation of this function for further details.\n",
            "\n",
            "    The scikit-learn maintainers therefore strongly discourage the use of this\n",
            "    dataset unless the purpose of the code is to study and educate about\n",
            "    ethical issues in data science and machine learning.\n",
            "\n",
            "    In this special case, you can fetch the dataset from the original\n",
            "    source::\n",
            "\n",
            "        import pandas as pd\n",
            "        import numpy as np\n",
            "\n",
            "\n",
            "        data_url = \"http://lib.stat.cmu.edu/datasets/boston\"\n",
            "        raw_df = pd.read_csv(data_url, sep=\"\\s+\", skiprows=22, header=None)\n",
            "        data = np.hstack([raw_df.values[::2, :], raw_df.values[1::2, :2]])\n",
            "        target = raw_df.values[1::2, 2]\n",
            "\n",
            "    Alternative datasets include the California housing dataset (i.e.\n",
            "    :func:`~sklearn.datasets.fetch_california_housing`) and the Ames housing\n",
            "    dataset. You can load the datasets as follows::\n",
            "\n",
            "        from sklearn.datasets import fetch_california_housing\n",
            "        housing = fetch_california_housing()\n",
            "\n",
            "    for the California housing dataset and::\n",
            "\n",
            "        from sklearn.datasets import fetch_openml\n",
            "        housing = fetch_openml(name=\"house_prices\", as_frame=True)\n",
            "\n",
            "    for the Ames housing dataset.\n",
            "    \n",
            "  warnings.warn(msg, category=FutureWarning)\n"
          ]
        }
      ],
      "source": [
        "X,y = load_boston(return_X_y=True)"
      ]
    },
    {
      "cell_type": "code",
      "execution_count": 4,
      "metadata": {
        "colab": {
          "base_uri": "https://localhost:8080/"
        },
        "id": "twR8Wy0umPvc",
        "outputId": "7eeaa288-9a0a-45de-ea39-67960db8ca28"
      },
      "outputs": [
        {
          "output_type": "execute_result",
          "data": {
            "text/plain": [
              "array([[6.3200e-03, 1.8000e+01, 2.3100e+00, ..., 1.5300e+01, 3.9690e+02,\n",
              "        4.9800e+00],\n",
              "       [2.7310e-02, 0.0000e+00, 7.0700e+00, ..., 1.7800e+01, 3.9690e+02,\n",
              "        9.1400e+00],\n",
              "       [2.7290e-02, 0.0000e+00, 7.0700e+00, ..., 1.7800e+01, 3.9283e+02,\n",
              "        4.0300e+00],\n",
              "       ...,\n",
              "       [6.0760e-02, 0.0000e+00, 1.1930e+01, ..., 2.1000e+01, 3.9690e+02,\n",
              "        5.6400e+00],\n",
              "       [1.0959e-01, 0.0000e+00, 1.1930e+01, ..., 2.1000e+01, 3.9345e+02,\n",
              "        6.4800e+00],\n",
              "       [4.7410e-02, 0.0000e+00, 1.1930e+01, ..., 2.1000e+01, 3.9690e+02,\n",
              "        7.8800e+00]])"
            ]
          },
          "metadata": {},
          "execution_count": 4
        }
      ],
      "source": [
        "X"
      ]
    },
    {
      "cell_type": "code",
      "execution_count": 5,
      "metadata": {
        "id": "c9dQ5VnbmPvd"
      },
      "outputs": [],
      "source": [
        "scaler=StandardScaler()"
      ]
    },
    {
      "cell_type": "code",
      "source": [
        "scaled_X=scaler.fit_transform(X)"
      ],
      "metadata": {
        "id": "3L95pJZem55W"
      },
      "execution_count": 6,
      "outputs": []
    },
    {
      "cell_type": "code",
      "source": [
        "scaled_X"
      ],
      "metadata": {
        "colab": {
          "base_uri": "https://localhost:8080/"
        },
        "id": "GTCbkYdjm9PF",
        "outputId": "db67ea97-e10c-4f6a-90c9-8b9ecb9981f4"
      },
      "execution_count": 7,
      "outputs": [
        {
          "output_type": "execute_result",
          "data": {
            "text/plain": [
              "array([[-0.41978194,  0.28482986, -1.2879095 , ..., -1.45900038,\n",
              "         0.44105193, -1.0755623 ],\n",
              "       [-0.41733926, -0.48772236, -0.59338101, ..., -0.30309415,\n",
              "         0.44105193, -0.49243937],\n",
              "       [-0.41734159, -0.48772236, -0.59338101, ..., -0.30309415,\n",
              "         0.39642699, -1.2087274 ],\n",
              "       ...,\n",
              "       [-0.41344658, -0.48772236,  0.11573841, ...,  1.17646583,\n",
              "         0.44105193, -0.98304761],\n",
              "       [-0.40776407, -0.48772236,  0.11573841, ...,  1.17646583,\n",
              "         0.4032249 , -0.86530163],\n",
              "       [-0.41500016, -0.48772236,  0.11573841, ...,  1.17646583,\n",
              "         0.44105193, -0.66905833]])"
            ]
          },
          "metadata": {},
          "execution_count": 7
        }
      ]
    },
    {
      "cell_type": "code",
      "source": [
        "lr= LinearRegression()"
      ],
      "metadata": {
        "id": "c4eePPWNnAW_"
      },
      "execution_count": 8,
      "outputs": []
    },
    {
      "cell_type": "code",
      "source": [
        "lr.fit(scaled_X, y)"
      ],
      "metadata": {
        "colab": {
          "base_uri": "https://localhost:8080/"
        },
        "id": "jPFSft45nGrq",
        "outputId": "a440858b-1ee9-4f28-fd27-8b0ae06756bd"
      },
      "execution_count": 10,
      "outputs": [
        {
          "output_type": "execute_result",
          "data": {
            "text/plain": [
              "LinearRegression()"
            ]
          },
          "metadata": {},
          "execution_count": 10
        }
      ]
    },
    {
      "cell_type": "code",
      "source": [
        "predicted_y=lr.predict(scaled_X)"
      ],
      "metadata": {
        "id": "N17qMS8znKi9"
      },
      "execution_count": 11,
      "outputs": []
    },
    {
      "cell_type": "code",
      "source": [
        "print(mean_squared_error(y,predicted_y))"
      ],
      "metadata": {
        "colab": {
          "base_uri": "https://localhost:8080/"
        },
        "id": "U3ON_KcQnRpF",
        "outputId": "3482e86a-3fad-42cb-ceb1-dcc0224ec8b6"
      },
      "execution_count": 12,
      "outputs": [
        {
          "output_type": "stream",
          "name": "stdout",
          "text": [
            "21.894831181729202\n"
          ]
        }
      ]
    },
    {
      "cell_type": "code",
      "source": [
        "plt.scatter(y,predicted_y)"
      ],
      "metadata": {
        "colab": {
          "base_uri": "https://localhost:8080/",
          "height": 282
        },
        "id": "39BSSOZBnWqi",
        "outputId": "c770c1cc-0fdf-48cd-d874-fe598282ac90"
      },
      "execution_count": 13,
      "outputs": [
        {
          "output_type": "execute_result",
          "data": {
            "text/plain": [
              "<matplotlib.collections.PathCollection at 0x7faf8befed00>"
            ]
          },
          "metadata": {},
          "execution_count": 13
        },
        {
          "output_type": "display_data",
          "data": {
            "text/plain": [
              "<Figure size 432x288 with 1 Axes>"
            ],
            "image/png": "[encoded data removed]"
          },
          "metadata": {
            "needs_background": "light"
          }
        }
      ]
    },
    {
      "cell_type": "code",
      "source": [
        "pipe=Pipeline([('scaler:', StandardScaler()),('algo:', LinearRegression())])"
      ],
      "metadata": {
        "id": "dGu3IFGfnZ0G"
      },
      "execution_count": 14,
      "outputs": []
    },
    {
      "cell_type": "code",
      "source": [
        "pipe.fit(X,y)"
      ],
      "metadata": {
        "colab": {
          "base_uri": "https://localhost:8080/"
        },
        "id": "QTvyHXdDnlqp",
        "outputId": "6f3074e4-f796-4339-9ceb-069746c80a97"
      },
      "execution_count": 15,
      "outputs": [
        {
          "output_type": "execute_result",
          "data": {
            "text/plain": [
              "Pipeline(steps=[('scaler:', StandardScaler()), ('algo:', LinearRegression())])"
            ]
          },
          "metadata": {},
          "execution_count": 15
        }
      ]
    },
    {
      "cell_type": "code",
      "source": [
        "pipe.predict(X)"
      ],
      "metadata": {
        "colab": {
          "base_uri": "https://localhost:8080/"
        },
        "id": "GHuW16swnob7",
        "outputId": "26d4fe31-9ec2-49ae-8700-225c229f2e17"
      },
      "execution_count": 16,
      "outputs": [
        {
          "output_type": "execute_result",
          "data": {
            "text/plain": [
              "array([30.00384338, 25.02556238, 30.56759672, 28.60703649, 27.94352423,\n",
              "       25.25628446, 23.00180827, 19.53598843, 11.52363685, 18.92026211,\n",
              "       18.99949651, 21.58679568, 20.90652153, 19.55290281, 19.28348205,\n",
              "       19.29748321, 20.52750979, 16.91140135, 16.17801106, 18.40613603,\n",
              "       12.52385753, 17.67103669, 15.83288129, 13.80628535, 15.67833832,\n",
              "       13.38668561, 15.46397655, 14.70847428, 19.54737285, 20.8764282 ,\n",
              "       11.45511759, 18.05923295,  8.81105736, 14.28275814, 13.70675891,\n",
              "       23.81463526, 22.34193708, 23.10891142, 22.91502612, 31.35762569,\n",
              "       34.21510225, 28.02056414, 25.20386628, 24.60979273, 22.94149176,\n",
              "       22.09669817, 20.42320032, 18.03655088,  9.10655377, 17.20607751,\n",
              "       21.28152535, 23.97222285, 27.6558508 , 24.04901809, 15.3618477 ,\n",
              "       31.15264947, 24.85686978, 33.10919806, 21.77537987, 21.08493555,\n",
              "       17.8725804 , 18.51110208, 23.98742856, 22.55408869, 23.37308644,\n",
              "       30.36148358, 25.53056512, 21.11338564, 17.42153786, 20.78483633,\n",
              "       25.20148859, 21.7426577 , 24.55744957, 24.04295712, 25.50499716,\n",
              "       23.9669302 , 22.94545403, 23.35699818, 21.26198266, 22.42817373,\n",
              "       28.40576968, 26.99486086, 26.03576297, 25.05873482, 24.78456674,\n",
              "       27.79049195, 22.16853423, 25.89276415, 30.67461827, 30.83110623,\n",
              "       27.1190194 , 27.41266734, 28.94122762, 29.08105546, 27.03977365,\n",
              "       28.62459949, 24.72744978, 35.78159518, 35.11454587, 32.25102801,\n",
              "       24.58022019, 25.59413475, 19.79013684, 20.31167129, 21.43482591,\n",
              "       18.53994008, 17.18755992, 20.75049026, 22.64829115, 19.7720367 ,\n",
              "       20.64965864, 26.52586744, 20.77323638, 20.71548315, 25.17208881,\n",
              "       20.43025591, 23.37724626, 23.69043261, 20.33578364, 20.79180873,\n",
              "       21.91632071, 22.47107777, 20.55738556, 16.36661977, 20.56099819,\n",
              "       22.48178446, 14.61706633, 15.17876684, 18.93868592, 14.05573285,\n",
              "       20.03527399, 19.41013402, 20.06191566, 15.75807673, 13.25645238,\n",
              "       17.26277735, 15.87841883, 19.36163954, 13.81483897, 16.44881475,\n",
              "       13.57141932,  3.98885508, 14.59495478, 12.1488148 ,  8.72822362,\n",
              "       12.03585343, 15.82082058,  8.5149902 ,  9.71844139, 14.80451374,\n",
              "       20.83858153, 18.30101169, 20.12282558, 17.28601894, 22.36600228,\n",
              "       20.10375923, 13.62125891, 33.25982697, 29.03017268, 25.56752769,\n",
              "       32.70827666, 36.77467015, 40.55765844, 41.84728168, 24.78867379,\n",
              "       25.37889238, 37.20347455, 23.08748747, 26.40273955, 26.65382114,\n",
              "       22.5551466 , 24.29082812, 22.97657219, 29.07194308, 26.5219434 ,\n",
              "       30.72209056, 25.61669307, 29.13740979, 31.43571968, 32.92231568,\n",
              "       34.72440464, 27.76552111, 33.88787321, 30.99238036, 22.71820008,\n",
              "       24.7664781 , 35.88497226, 33.42476722, 32.41199147, 34.51509949,\n",
              "       30.76109485, 30.28934141, 32.91918714, 32.11260771, 31.55871004,\n",
              "       40.84555721, 36.12770079, 32.6692081 , 34.70469116, 30.09345162,\n",
              "       30.64393906, 29.28719501, 37.07148392, 42.03193124, 43.18949844,\n",
              "       22.69034796, 23.68284712, 17.85447214, 23.49428992, 17.00587718,\n",
              "       22.39251096, 17.06042754, 22.73892921, 25.21942554, 11.11916737,\n",
              "       24.51049148, 26.60334775, 28.35518713, 24.91525464, 29.68652768,\n",
              "       33.18419746, 23.77456656, 32.14051958, 29.7458199 , 38.37102453,\n",
              "       39.81461867, 37.58605755, 32.3995325 , 35.45665242, 31.23411512,\n",
              "       24.48449227, 33.28837292, 38.0481048 , 37.16328631, 31.71383523,\n",
              "       25.26705571, 30.10010745, 32.71987156, 28.42717057, 28.42940678,\n",
              "       27.29375938, 23.74262478, 24.12007891, 27.40208414, 16.3285756 ,\n",
              "       13.39891261, 20.01638775, 19.86184428, 21.2883131 , 24.0798915 ,\n",
              "       24.20633547, 25.04215821, 24.91964007, 29.94563374, 23.97228316,\n",
              "       21.69580887, 37.51109239, 43.30239043, 36.48361421, 34.98988594,\n",
              "       34.81211508, 37.16631331, 40.98928501, 34.44634089, 35.83397547,\n",
              "       28.245743  , 31.22673593, 40.8395575 , 39.31792393, 25.70817905,\n",
              "       22.30295533, 27.20340972, 28.51169472, 35.47676598, 36.10639164,\n",
              "       33.79668274, 35.61085858, 34.83993382, 30.35192656, 35.30980701,\n",
              "       38.79756966, 34.33123186, 40.33963075, 44.67308339, 31.59689086,\n",
              "       27.3565923 , 20.10174154, 27.04206674, 27.2136458 , 26.91395839,\n",
              "       33.43563311, 34.40349633, 31.8333982 , 25.81783237, 24.42982348,\n",
              "       28.45764337, 27.36266999, 19.53928758, 29.11309844, 31.91054611,\n",
              "       30.77159449, 28.94275871, 28.88191022, 32.79887232, 33.20905456,\n",
              "       30.76831792, 35.56226857, 32.70905124, 28.64244237, 23.58965827,\n",
              "       18.54266897, 26.87889843, 23.28133979, 25.54580246, 25.48120057,\n",
              "       20.53909901, 17.61572573, 18.37581686, 24.29070277, 21.32529039,\n",
              "       24.88682244, 24.86937282, 22.86952447, 19.45123791, 25.11783401,\n",
              "       24.66786913, 23.68076177, 19.34089616, 21.17418105, 24.25249073,\n",
              "       21.59260894, 19.98446605, 23.33888   , 22.14060692, 21.55509929,\n",
              "       20.61872907, 20.16097176, 19.28490387, 22.1667232 , 21.24965774,\n",
              "       21.42939305, 30.32788796, 22.04734975, 27.70647912, 28.54794117,\n",
              "       16.54501121, 14.78359641, 25.27380082, 27.54205117, 22.14837562,\n",
              "       20.45944095, 20.54605423, 16.88063827, 25.40253506, 14.32486632,\n",
              "       16.59488462, 19.63704691, 22.71806607, 22.20218887, 19.20548057,\n",
              "       22.66616105, 18.93192618, 18.22846804, 20.23150811, 37.4944739 ,\n",
              "       14.28190734, 15.54286248, 10.83162324, 23.80072902, 32.6440736 ,\n",
              "       34.60684042, 24.94331333, 25.9998091 ,  6.126325  ,  0.77779806,\n",
              "       25.30713064, 17.74061065, 20.23274414, 15.83331301, 16.83512587,\n",
              "       14.36994825, 18.47682833, 13.4276828 , 13.06177512,  3.27918116,\n",
              "        8.06022171,  6.12842196,  5.6186481 ,  6.4519857 , 14.20764735,\n",
              "       17.21225183, 17.29887265,  9.89116643, 20.22124193, 17.94181175,\n",
              "       20.30445783, 19.29559075, 16.33632779,  6.55162319, 10.89016778,\n",
              "       11.88145871, 17.81174507, 18.26126587, 12.97948781,  7.37816361,\n",
              "        8.21115861,  8.06626193, 19.98294786, 13.70756369, 19.85268454,\n",
              "       15.22308298, 16.96071981,  1.71851807, 11.80578387, -4.28131071,\n",
              "        9.58376737, 13.36660811,  6.89562363,  6.14779852, 14.60661794,\n",
              "       19.6000267 , 18.12427476, 18.52177132, 13.1752861 , 14.62617624,\n",
              "        9.92374976, 16.34590647, 14.07519426, 14.25756243, 13.04234787,\n",
              "       18.15955693, 18.69554354, 21.527283  , 17.03141861, 15.96090435,\n",
              "       13.36141611, 14.52079384,  8.81976005,  4.86751102, 13.06591313,\n",
              "       12.70609699, 17.29558059, 18.740485  , 18.05901029, 11.51474683,\n",
              "       11.97400359, 17.68344618, 18.12695239, 17.5183465 , 17.22742507,\n",
              "       16.52271631, 19.41291095, 18.58215236, 22.48944791, 15.28000133,\n",
              "       15.82089335, 12.68725581, 12.8763379 , 17.18668531, 18.51247609,\n",
              "       19.04860533, 20.17208927, 19.7740732 , 22.42940768, 20.31911854,\n",
              "       17.88616253, 14.37478523, 16.94776851, 16.98405762, 18.58838397,\n",
              "       20.16719441, 22.97718032, 22.45580726, 25.57824627, 16.39147632,\n",
              "       16.1114628 , 20.534816  , 11.54272738, 19.20496304, 21.86276391,\n",
              "       23.46878866, 27.09887315, 28.56994302, 21.08398783, 19.45516196,\n",
              "       22.22225914, 19.65591961, 21.32536104, 11.85583717,  8.22386687,\n",
              "        3.66399672, 13.75908538, 15.93118545, 20.62662054, 20.61249414,\n",
              "       16.88541964, 14.01320787, 19.10854144, 21.29805174, 18.45498841,\n",
              "       20.46870847, 23.53334055, 22.37571892, 27.6274261 , 26.12796681,\n",
              "       22.34421229])"
            ]
          },
          "metadata": {},
          "execution_count": 16
        }
      ]
    },
    {
      "cell_type": "code",
      "source": [
        "predicted_y=pipe.predict(X)"
      ],
      "metadata": {
        "id": "VE3n3OmMnsUE"
      },
      "execution_count": 17,
      "outputs": []
    },
    {
      "cell_type": "code",
      "source": [
        "plt.scatter(predicted_y, y)"
      ],
      "metadata": {
        "colab": {
          "base_uri": "https://localhost:8080/",
          "height": 282
        },
        "id": "TFUEOxjfn3lg",
        "outputId": "27c5204b-534d-4f70-dbac-603bff352a01"
      },
      "execution_count": 18,
      "outputs": [
        {
          "output_type": "execute_result",
          "data": {
            "text/plain": [
              "<matplotlib.collections.PathCollection at 0x7faf8b9dcc40>"
            ]
          },
          "metadata": {},
          "execution_count": 18
        },
        {
          "output_type": "display_data",
          "data": {
            "text/plain": [
              "<Figure size 432x288 with 1 Axes>"
            ],
            "image/png": "[encoded data removed]"
          },
          "metadata": {
            "needs_background": "light"
          }
        }
      ]
    },
    {
      "cell_type": "code",
      "source": [],
      "metadata": {
        "id": "rCoCtPpZn76a"
      },
      "execution_count": null,
      "outputs": []
    }
  ],
  "metadata": {
    "kernelspec": {
      "display_name": "tf_env",
      "language": "python",
      "name": "python3"
    },
    "language_info": {
      "codemirror_mode": {
        "name": "ipython",
        "version": 3
      },
      "file_extension": ".py",
      "mimetype": "text/x-python",
      "name": "python",
      "nbconvert_exporter": "python",
      "pygments_lexer": "ipython3",
      "version": "3.9.16"
    },
    "orig_nbformat": 4,
    "vscode": {
      "interpreter": {
        "hash": "403cceaf60c511805a44fbad3ea157988f9ec256c58dba035c282f5f551db156"
      }
    },
    "colab": {
      "provenance": [],
      "include_colab_link": true
    }
  },
  "nbformat": 4,
  "nbformat_minor": 0
}